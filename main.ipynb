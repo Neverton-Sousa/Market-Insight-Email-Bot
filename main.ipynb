{
 "cells": [
  {
   "cell_type": "code",
   "execution_count": 1,
   "metadata": {},
   "outputs": [],
   "source": [
    "#importar as bibliotecas\n",
    "import pandas as pd\n",
    "\n",
    "#importar base de dados\n",
    "emails = pd.read_excel(r\"Bases de Dados\\Emails.xlsx\")\n",
    "lojas = pd.read_csv(r'Bases de Dados\\Lojas.csv', encoding='latin1', sep=';')\n",
    "vendas = pd.read_excel(r'Bases de Dados\\Vendas.xlsx')"
   ]
  },
  {
   "cell_type": "code",
   "execution_count": 2,
   "metadata": {},
   "outputs": [],
   "source": [
    "#incluir nome da loja em vendas\n",
    "vendas = vendas.merge(lojas, on='ID Loja')"
   ]
  },
  {
   "cell_type": "code",
   "execution_count": 3,
   "metadata": {},
   "outputs": [],
   "source": [
    "dicionario_lojas={}\n",
    "for loja in lojas['Loja']:\n",
    "    dicionario_lojas[loja] = vendas.loc[vendas['Loja']==loja, :]"
   ]
  },
  {
   "cell_type": "code",
   "execution_count": 4,
   "metadata": {},
   "outputs": [],
   "source": [
    "dia_indicador = vendas['Data'].max()"
   ]
  },
  {
   "cell_type": "code",
   "execution_count": 24,
   "metadata": {},
   "outputs": [],
   "source": [
    "import pathlib\n",
    "\n",
    "caminho_backup = pathlib.Path(r'Backup Arquivos Lojas')\n",
    "\n",
    "arquivos_pasta_backup = caminho_backup.iterdir()\n",
    "lista_nomes_backup = [arquivo.name for arquivo in arquivos_pasta_backup]\n",
    "\n",
    "for loja in dicionario_lojas:\n",
    "    if loja not in lista_nomes_backup:\n",
    "        nova_pasta = caminho_backup / loja\n",
    "        nova_pasta.mkdir()\n",
    "\n",
    "    nome_arquivo = f'{dia_indicador.month}_{dia_indicador.day}_{loja}.xlsx'\n",
    "    local_arquivo = caminho_backup / loja / nome_arquivo\n",
    "\n",
    "    dicionario_lojas[loja].to_excel(local_arquivo)"
   ]
  },
  {
   "cell_type": "code",
   "execution_count": 9,
   "metadata": {},
   "outputs": [],
   "source": [
    "loja = 'Norte Shopping'\n",
    "vendas_loja = dicionario_lojas[loja]\n",
    "vendas_loja_dia = vendas_loja.loc[vendas_loja['Data']==dia_indicador, :]\n",
    "\n",
    "# faturamento\n",
    "faturamento_ano = vendas_loja['Valor Final'].sum()\n",
    "faturamento_dia = vendas_loja_dia['Valor Final'].sum()\n",
    "\n",
    "# diversidade de produtos\n",
    "qtde_produtos_ano = len(vendas_loja['Produto'].unique())\n",
    "qtde_produtos_dia = len(vendas_loja_dia['Produto'].unique())\n",
    "\n",
    "# tiket medio\n",
    "vendas_loja = vendas_loja.drop(columns=vendas_loja.select_dtypes(include='datetime64').columns)\n",
    "valor_venda = vendas_loja.groupby('Código Venda').sum()\n",
    "# ticket_medio_ano = valor_venda['Valor Final'].mean()\n",
    "valor_venda_dia = vendas_loja_dia.groupby('Código Venda').sum(numeric_only=True)\n",
    "ticket_medio_dia = valor_venda_dia['Valor Final'].mean()\n",
    "\n"
   ]
  },
  {
   "cell_type": "code",
   "execution_count": 10,
   "metadata": {},
   "outputs": [],
   "source": [
    "# definição de metas\n",
    "\n",
    "meta_faturamento_dia = 1000\n",
    "meta_faturamento_ano = 1650000\n",
    "meta_qtd_produtos_dia = 4\n",
    "meta_qtd_produtos_ano = 120\n",
    "meta_ticket_medio_dia = 500\n",
    "meta_ticket_medio_ano = 500"
   ]
  },
  {
   "cell_type": "code",
   "execution_count": 12,
   "metadata": {},
   "outputs": [
    {
     "ename": "com_error",
     "evalue": "(-2147221005, 'Cadeia de caracteres de classe inválida', None, None)",
     "output_type": "error",
     "traceback": [
      "\u001b[1;31m---------------------------------------------------------------------------\u001b[0m",
      "\u001b[1;31mcom_error\u001b[0m                                 Traceback (most recent call last)",
      "File \u001b[1;32mc:\\Users\\t\\anaconda3\\Lib\\site-packages\\win32com\\client\\dynamic.py:86\u001b[0m, in \u001b[0;36m_GetGoodDispatch\u001b[1;34m(IDispatch, clsctx)\u001b[0m\n\u001b[0;32m     85\u001b[0m \u001b[38;5;28;01mtry\u001b[39;00m:\n\u001b[1;32m---> 86\u001b[0m     IDispatch \u001b[38;5;241m=\u001b[39m pythoncom\u001b[38;5;241m.\u001b[39mconnect(IDispatch)\n\u001b[0;32m     87\u001b[0m \u001b[38;5;28;01mexcept\u001b[39;00m pythoncom\u001b[38;5;241m.\u001b[39mole_error:\n",
      "\u001b[1;31mcom_error\u001b[0m: (-2147221005, 'Cadeia de caracteres de classe inválida', None, None)",
      "\nDuring handling of the above exception, another exception occurred:\n",
      "\u001b[1;31mcom_error\u001b[0m                                 Traceback (most recent call last)",
      "Cell \u001b[1;32mIn[12], line 2\u001b[0m\n\u001b[0;32m      1\u001b[0m \u001b[38;5;28;01mimport\u001b[39;00m \u001b[38;5;21;01mwin32com\u001b[39;00m\u001b[38;5;21;01m.\u001b[39;00m\u001b[38;5;21;01mclient\u001b[39;00m \u001b[38;5;28;01mas\u001b[39;00m \u001b[38;5;21;01mwin32\u001b[39;00m\n\u001b[1;32m----> 2\u001b[0m outlook \u001b[38;5;241m=\u001b[39m win32\u001b[38;5;241m.\u001b[39mDispatch(\u001b[38;5;124m'\u001b[39m\u001b[38;5;124moutlook.application\u001b[39m\u001b[38;5;124m'\u001b[39m)\n\u001b[0;32m      4\u001b[0m nome \u001b[38;5;241m=\u001b[39m emails\u001b[38;5;241m.\u001b[39mloc[emails[\u001b[38;5;124m'\u001b[39m\u001b[38;5;124mLoja\u001b[39m\u001b[38;5;124m'\u001b[39m]\u001b[38;5;241m==\u001b[39mloja, \u001b[38;5;124m'\u001b[39m\u001b[38;5;124mGerente\u001b[39m\u001b[38;5;124m'\u001b[39m]\u001b[38;5;241m.\u001b[39mvalues[\u001b[38;5;241m0\u001b[39m]\n\u001b[0;32m      5\u001b[0m mail \u001b[38;5;241m=\u001b[39m outlook\u001b[38;5;241m.\u001b[39mCreateItem(\u001b[38;5;241m0\u001b[39m)\n",
      "File \u001b[1;32mc:\\Users\\t\\anaconda3\\Lib\\site-packages\\win32com\\client\\__init__.py:117\u001b[0m, in \u001b[0;36mDispatch\u001b[1;34m(dispatch, userName, resultCLSID, typeinfo, UnicodeToString, clsctx)\u001b[0m\n\u001b[0;32m    115\u001b[0m \u001b[38;5;250m\u001b[39m\u001b[38;5;124;03m\"\"\"Creates a Dispatch based COM object.\"\"\"\u001b[39;00m\n\u001b[0;32m    116\u001b[0m \u001b[38;5;28;01massert\u001b[39;00m UnicodeToString \u001b[38;5;129;01mis\u001b[39;00m \u001b[38;5;28;01mNone\u001b[39;00m, \u001b[38;5;124m\"\u001b[39m\u001b[38;5;124mthis is deprecated and will go away\u001b[39m\u001b[38;5;124m\"\u001b[39m\n\u001b[1;32m--> 117\u001b[0m dispatch, userName \u001b[38;5;241m=\u001b[39m dynamic\u001b[38;5;241m.\u001b[39m_GetGoodDispatchAndUserName(dispatch, userName, clsctx)\n\u001b[0;32m    118\u001b[0m \u001b[38;5;28;01mreturn\u001b[39;00m __WrapDispatch(dispatch, userName, resultCLSID, typeinfo, clsctx\u001b[38;5;241m=\u001b[39mclsctx)\n",
      "File \u001b[1;32mc:\\Users\\t\\anaconda3\\Lib\\site-packages\\win32com\\client\\dynamic.py:106\u001b[0m, in \u001b[0;36m_GetGoodDispatchAndUserName\u001b[1;34m(IDispatch, userName, clsctx)\u001b[0m\n\u001b[0;32m    103\u001b[0m     \u001b[38;5;66;03m## ??? else userName remains None ???\u001b[39;00m\n\u001b[0;32m    104\u001b[0m \u001b[38;5;28;01melse\u001b[39;00m:\n\u001b[0;32m    105\u001b[0m     userName \u001b[38;5;241m=\u001b[39m \u001b[38;5;28mstr\u001b[39m(userName)\n\u001b[1;32m--> 106\u001b[0m \u001b[38;5;28;01mreturn\u001b[39;00m (_GetGoodDispatch(IDispatch, clsctx), userName)\n",
      "File \u001b[1;32mc:\\Users\\t\\anaconda3\\Lib\\site-packages\\win32com\\client\\dynamic.py:88\u001b[0m, in \u001b[0;36m_GetGoodDispatch\u001b[1;34m(IDispatch, clsctx)\u001b[0m\n\u001b[0;32m     86\u001b[0m         IDispatch \u001b[38;5;241m=\u001b[39m pythoncom\u001b[38;5;241m.\u001b[39mconnect(IDispatch)\n\u001b[0;32m     87\u001b[0m     \u001b[38;5;28;01mexcept\u001b[39;00m pythoncom\u001b[38;5;241m.\u001b[39mole_error:\n\u001b[1;32m---> 88\u001b[0m         IDispatch \u001b[38;5;241m=\u001b[39m pythoncom\u001b[38;5;241m.\u001b[39mCoCreateInstance(\n\u001b[0;32m     89\u001b[0m             IDispatch, \u001b[38;5;28;01mNone\u001b[39;00m, clsctx, pythoncom\u001b[38;5;241m.\u001b[39mIID_IDispatch\n\u001b[0;32m     90\u001b[0m         )\n\u001b[0;32m     91\u001b[0m \u001b[38;5;28;01melse\u001b[39;00m:\n\u001b[0;32m     92\u001b[0m     \u001b[38;5;66;03m# may already be a wrapped class.\u001b[39;00m\n\u001b[0;32m     93\u001b[0m     IDispatch \u001b[38;5;241m=\u001b[39m \u001b[38;5;28mgetattr\u001b[39m(IDispatch, \u001b[38;5;124m\"\u001b[39m\u001b[38;5;124m_oleobj_\u001b[39m\u001b[38;5;124m\"\u001b[39m, IDispatch)\n",
      "\u001b[1;31mcom_error\u001b[0m: (-2147221005, 'Cadeia de caracteres de classe inválida', None, None)"
     ]
    }
   ],
   "source": [
    "import win32com.client as win32\n",
    "outlook = win32.Dispatch('outlook.application')\n",
    "\n",
    "nome = emails.loc[emails['Loja']==loja, 'Gerente'].values[0]\n",
    "mail = outlook.CreateItem(0)\n",
    "mail.To = emails.loc[emails['Loja']==loja, 'E-mail'].values[0]\n",
    "mail.Subject = f'OnePage Dia {dia_indicador.day}/{dia_indicador.month} - Loja {loja}'\n",
    "mail.Body = 'Texto email'\n",
    "\n",
    "#anexos \n",
    "attachment = pathlib.Path.cwd / caminho_backup / f'{dia_indicador.month}_{dia_indicador.day}_{loja}.xlsx'\n",
    "mail.Attachments.Add(str(attachment))\n",
    "\n",
    "# mail.send()"
   ]
  }
 ],
 "metadata": {
  "kernelspec": {
   "display_name": "base",
   "language": "python",
   "name": "python3"
  },
  "language_info": {
   "codemirror_mode": {
    "name": "ipython",
    "version": 3
   },
   "file_extension": ".py",
   "mimetype": "text/x-python",
   "name": "python",
   "nbconvert_exporter": "python",
   "pygments_lexer": "ipython3",
   "version": "3.11.7"
  }
 },
 "nbformat": 4,
 "nbformat_minor": 2
}
