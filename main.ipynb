{
 "cells": [
  {
   "cell_type": "code",
   "execution_count": 1,
   "metadata": {},
   "outputs": [],
   "source": [
    "#importar as bibliotecas\n",
    "import pandas as pd\n",
    "\n",
    "#importar base de dados\n",
    "emails = pd.read_excel(r\"Bases de Dados\\Emails.xlsx\")\n",
    "lojas = pd.read_csv(r'Bases de Dados\\Lojas.csv', encoding='latin1', sep=';')\n",
    "vendas = pd.read_excel(r'Bases de Dados\\Vendas.xlsx')"
   ]
  },
  {
   "cell_type": "code",
   "execution_count": 2,
   "metadata": {},
   "outputs": [],
   "source": [
    "#incluir nome da loja em vendas\n",
    "vendas = vendas.merge(lojas, on='ID Loja')"
   ]
  },
  {
   "cell_type": "code",
   "execution_count": 3,
   "metadata": {},
   "outputs": [],
   "source": [
    "dicionario_lojas={}\n",
    "for loja in lojas['Loja']:\n",
    "    dicionario_lojas[loja] = vendas.loc[vendas['Loja']==loja, :]"
   ]
  },
  {
   "cell_type": "code",
   "execution_count": 4,
   "metadata": {},
   "outputs": [],
   "source": [
    "dia_indicador = vendas['Data'].max()"
   ]
  },
  {
   "cell_type": "code",
   "execution_count": 24,
   "metadata": {},
   "outputs": [],
   "source": [
    "import pathlib\n",
    "\n",
    "caminho_backup = pathlib.Path(r'Backup Arquivos Lojas')\n",
    "\n",
    "arquivos_pasta_backup = caminho_backup.iterdir()\n",
    "lista_nomes_backup = [arquivo.name for arquivo in arquivos_pasta_backup]\n",
    "\n",
    "for loja in dicionario_lojas:\n",
    "    if loja not in lista_nomes_backup:\n",
    "        nova_pasta = caminho_backup / loja\n",
    "        nova_pasta.mkdir()\n",
    "\n",
    "    nome_arquivo = f'{dia_indicador.month}_{dia_indicador.day}_{loja}.xlsx'\n",
    "    local_arquivo = caminho_backup / loja / nome_arquivo\n",
    "\n",
    "    dicionario_lojas[loja].to_excel(local_arquivo)"
   ]
  },
  {
   "cell_type": "code",
   "execution_count": 9,
   "metadata": {},
   "outputs": [],
   "source": [
    "loja = 'Norte Shopping'\n",
    "vendas_loja = dicionario_lojas[loja]\n",
    "vendas_loja_dia = vendas_loja.loc[vendas_loja['Data']==dia_indicador, :]\n",
    "\n",
    "# faturamento\n",
    "faturamento_ano = vendas_loja['Valor Final'].sum()\n",
    "faturamento_dia = vendas_loja_dia['Valor Final'].sum()\n",
    "\n",
    "# diversidade de produtos\n",
    "qtde_produtos_ano = len(vendas_loja['Produto'].unique())\n",
    "qtde_produtos_dia = len(vendas_loja_dia['Produto'].unique())\n",
    "\n",
    "# tiket medio\n",
    "vendas_loja = vendas_loja.drop(columns=vendas_loja.select_dtypes(include='datetime64').columns)\n",
    "valor_venda = vendas_loja.groupby('Código Venda').sum()\n",
    "# ticket_medio_ano = valor_venda['Valor Final'].mean()\n",
    "valor_venda_dia = vendas_loja_dia.groupby('Código Venda').sum(numeric_only=True)\n",
    "ticket_medio_dia = valor_venda_dia['Valor Final'].mean()\n",
    "\n"
   ]
  },
  {
   "cell_type": "code",
   "execution_count": 10,
   "metadata": {},
   "outputs": [],
   "source": [
    "# definição de metas\n",
    "\n",
    "meta_faturamento_dia = 1000\n",
    "meta_faturamento_ano = 1650000\n",
    "meta_qtd_produtos_dia = 4\n",
    "meta_qtd_produtos_ano = 120\n",
    "meta_ticket_medio_dia = 500\n",
    "meta_ticket_medio_ano = 500"
   ]
  },
  {
   "cell_type": "code",
   "execution_count": 1,
   "metadata": {},
   "outputs": [],
   "source": [
    "import yaml\n",
    "import logging\n",
    "\n",
    "def load_credentials(filepath):\n",
    "    try:\n",
    "        with open(filepath, 'r') as file:\n",
    "            credentials = yaml.safe_load(file)\n",
    "            user = credentials['user']\n",
    "            password = credentials['password']\n",
    "            return user, password\n",
    "    except Exception as e:\n",
    "        logging.error(\"Failed to load credentials: {}\".format(e))\n",
    "        raise"
   ]
  },
  {
   "cell_type": "code",
   "execution_count": 2,
   "metadata": {},
   "outputs": [],
   "source": [
    "from imap_tools import MailBox, AND\n",
    "credentials = load_credentials('docs/credentials.yaml')\n",
    "\n",
    "meu_email = MailBox(\"imap.gmail.com\").login(*credentials)\n",
    "\n",
    "nome = emails.loc[emails['Loja']==loja, 'Gerente'].values[0]\n",
    "\n",
    "\n",
    "mail = outlook.CreateItem(0)\n",
    "mail.To = emails.loc[emails['Loja']==loja, 'E-mail'].values[0]\n",
    "mail.Subject = f'OnePage Dia {dia_indicador.day}/{dia_indicador.month} - Loja {loja}'\n",
    "\n",
    "cor_fat_dia = 'green'\n",
    "cor_fat_ano = 'green'\n",
    "cor_qtde_dia = 'green'\n",
    "# cor_qtde_ano = 'green'\n",
    "# cor_ticket_dia = 'green'\n",
    "# cor_ticket_ano = 'green'\n",
    "\n",
    "mail.HTMLBody = f'''\n",
    "<p>Bom dia, {nome}</p>\n",
    "\n",
    "<p>O resultado de ontem <strong>({dia_indicador.day}/{dia_indicador.month})</strong> da <strong>Loja {loja} foi:<?strong></p>\n",
    "\n",
    "<table>\n",
    "  <tr>\n",
    "    <th>Indicador</th>\n",
    "    <th>Valor Dia</th>\n",
    "    <th>Meta Dia</th>\n",
    "    <th>Cenário Dia</th>\n",
    "  </tr>\n",
    "  <tr>\n",
    "    <td>Faturamento</td>\n",
    "    <td style=\"text-align: center\">{faturamento_dia}</td>\n",
    "    <td style=\"text-align: center\">{meta_faturamento_dia}</td>\n",
    "    <td style=\"text-align: center\">X</td>\n",
    "  </tr>\n",
    "  <tr>\n",
    "    <td>Diversidade de Produtos</td>\n",
    "    <td style=\"text-align: center\">{qtde_produtos_dia}</td>\n",
    "    <td style=\"text-align: center\">{meta_qtd_produtos_dia}</td>\n",
    "    <td style=\"text-align: center\">X</td>\n",
    "  </tr>\n",
    "  <tr>\n",
    "    <td>Ticket Médio</td>\n",
    "    <td style=\"text-align: center\">{ticket_medio_dia}</td>\n",
    "    <td style=\"text-align: center\">{meta_ticket_medio_dia}</td>\n",
    "    <td style=\"text-align: center\">X</td>\n",
    "  </tr>\n",
    "  \n",
    "</table>\n",
    "\n",
    "<p>Segue em anexo a planilha com todos od dados para mais detalhes.</p>\n",
    "\n",
    "<p>Qualquer dúvida estou à disposição</p>\n",
    "<p>Att., Neverton</p>\n",
    "'''\n",
    "\n",
    "#anexos \n",
    "attachment = pathlib.Path.cwd / caminho_backup / f'{dia_indicador.month}_{dia_indicador.day}_{loja}.xlsx'\n",
    "mail.Attachments.Add(str(attachment))\n",
    "\n",
    "# mail.send()"
   ]
  }
 ],
 "metadata": {
  "kernelspec": {
   "display_name": "base",
   "language": "python",
   "name": "python3"
  },
  "language_info": {
   "codemirror_mode": {
    "name": "ipython",
    "version": 3
   },
   "file_extension": ".py",
   "mimetype": "text/x-python",
   "name": "python",
   "nbconvert_exporter": "python",
   "pygments_lexer": "ipython3",
   "version": "3.11.7"
  }
 },
 "nbformat": 4,
 "nbformat_minor": 2
}
